{
  "nbformat": 4,
  "nbformat_minor": 0,
  "metadata": {
    "colab": {
      "name": "Text Summarization Google T5.ipynb",
      "provenance": [],
      "collapsed_sections": []
    },
    "kernelspec": {
      "name": "python3",
      "display_name": "Python 3"
    },
    "language_info": {
      "name": "python"
    }
  },
  "cells": [
    {
      "cell_type": "markdown",
      "metadata": {
        "id": "AOOTHi1lnGxT"
      },
      "source": [
        "## Import libs\n"
      ]
    },
    {
      "cell_type": "code",
      "metadata": {
        "id": "V7buNxa2oCqY"
      },
      "source": [
        "!pip install transformers"
      ],
      "execution_count": null,
      "outputs": []
    },
    {
      "cell_type": "code",
      "metadata": {
        "id": "4Y25dnv0nEBw"
      },
      "source": [
        "import torch\n",
        "from transformers import AutoTokenizer, AutoModelWithLMHead"
      ],
      "execution_count": null,
      "outputs": []
    },
    {
      "cell_type": "markdown",
      "metadata": {
        "id": "vC8yF13XnZwS"
      },
      "source": [
        "## Initialize Tokenizer and model\n"
      ]
    },
    {
      "cell_type": "code",
      "metadata": {
        "id": "q3ReCgI0neXK"
      },
      "source": [
        "tokenizer = AutoTokenizer.from_pretrained('t5-base')\n",
        "model = AutoModelWithLMHead.from_pretrained('t5-base', return_dict=True)"
      ],
      "execution_count": null,
      "outputs": []
    },
    {
      "cell_type": "markdown",
      "metadata": {
        "id": "cod0uYxWpA8n"
      },
      "source": [
        "## Data and Tokenization\n",
        "\n",
        "The Tokenizer will take every word or punctuation character and convert them into numeric IDs, which the T5 model will read and map to a pretrained word embedding."
      ]
    },
    {
      "cell_type": "code",
      "metadata": {
        "id": "Vmc7JvkupCuR"
      },
      "source": [
        "sequence = (\"Formula One (also known as Formula 1 or F1) is the highest class of international auto racing for single-seater formula racing cars sanctioned by the Fédération Internationale de l'Automobile (FIA). The World Drivers' Championship, which became the FIA Formula One World Championship in 1981, has been one of the premier forms of racing around the world since its inaugural season in 1950. The word formula in the name refers to the set of rules to which all participants' cars must conform. A Formula One season consists of a series of races, known as Grands Prix, which take place worldwide on both purpose-built circuits and closed public roads.\"\n",
        "\" \"\n",
        "\"The results of each race are evaluated using a points system to determine two annual World Championships: one for drivers, the other for constructors. Each driver must hold a valid Super Licence, the highest class of racing licence issued by the FIA. The races must run on tracks graded 1 (formerly A), the highest grade-rating issued by the FIA. Most events occur in rural locations on purpose-built tracks, but several events take place on city streets.\"\n",
        "\" \"\n",
        "\"Formula One cars are the fastest regulated road-course racing cars in the world, owing to very high cornering speeds achieved through the generation of large amounts of aerodynamic downforce. The cars underwent major changes in 2017, allowing wider front and rear wings, and wider tyres, resulting in peak cornering forces near 6.5 lateral g and top speeds of around 350 km/h (215 mph). As of 2021, the hybrid engines are limited in performance to a maximum of 15,000 rpm; the cars are very dependent on electronics and aerodynamics, suspension and tyres. Traction control, launch control, and automatic shifting, plus other electronic driving aids, were first banned in 1994, reintroduced in 2001, and have more recently been banned since 2004 and 2008, respectively.\"\n",
        "\" \"\n",
        "\"While Europe is the sport's traditional base, the championship operates globally, with 13 of the 23 races in the 2021 season taking place outside Europe. With the annual cost of running a mid-tier team – designing, building, and maintaining cars, pay, transport – being US$120 million, its financial and political battles are widely reported. Its high profile and popularity have created a major merchandising environment, which has resulted in large investments from sponsors and budgets (in the hundreds of millions for the constructors). On 23 January 2017, Liberty Media confirmed the completion of the acquisition of Delta Topco, the company that controls Formula One, from private-equity firm CVC Capital Partners for $8 billion.\")\n",
        "\n"
      ],
      "execution_count": null,
      "outputs": []
    },
    {
      "cell_type": "code",
      "metadata": {
        "id": "4-NCbz7eqIPL"
      },
      "source": [
        "inputs = tokenizer.encode('summarize: ' + sequence, return_tensors='pt', max_length=512, truncation=True)"
      ],
      "execution_count": null,
      "outputs": []
    },
    {
      "cell_type": "code",
      "metadata": {
        "id": "e9AZ_kNErT_Q"
      },
      "source": [
        "inputs"
      ],
      "execution_count": null,
      "outputs": []
    },
    {
      "cell_type": "markdown",
      "metadata": {
        "id": "7eiHkfCerngk"
      },
      "source": [
        "## Summary Generation\n",
        "\n",
        "- max_length defines the maximum number of tokens we’d like in our summary\n",
        "- min_length defines the minimum number of tokens we’d like\n",
        "- length_penalty allows us to penalize the model more or less for producing a summary below/above the min/max thresholds we defined\n",
        "- num_beams sets the number of beams that explore the potential tokens for the most promising predictions "
      ]
    },
    {
      "cell_type": "code",
      "metadata": {
        "id": "HLrzTefqrvnG"
      },
      "source": [
        "summary_ids = model.generate(inputs, max_length=150, min_length=60, length_penalty=5., num_beams=2)"
      ],
      "execution_count": null,
      "outputs": []
    },
    {
      "cell_type": "code",
      "metadata": {
        "id": "2sl81SbTsZfF"
      },
      "source": [
        "summary = tokenizer.decode(summary_ids[0])"
      ],
      "execution_count": null,
      "outputs": []
    },
    {
      "cell_type": "code",
      "metadata": {
        "colab": {
          "base_uri": "https://localhost:8080/",
          "height": 69
        },
        "id": "O7uugcJ3sp8s",
        "outputId": "1dfa5c55-411b-4904-cd36-1149d7d10b80"
      },
      "source": [
        "summary"
      ],
      "execution_count": null,
      "outputs": [
        {
          "output_type": "execute_result",
          "data": {
            "application/vnd.google.colaboratory.intrinsic+json": {
              "type": "string"
            },
            "text/plain": [
              "\"<pad> formula one (also known as F1) is the highest class of international auto racing for single-seater formula racing cars sanctioned by the FIA. the world drivers' championship, which became the FIA Formula One World Championship in 1981, has been one of the premier forms of racing around the world since its inaugural season in 1950. each driver must hold a valid Super Licence, the highest class of racing licence issued by the FIA.</s>\""
            ]
          },
          "metadata": {
            "tags": []
          },
          "execution_count": 44
        }
      ]
    }
  ]
}